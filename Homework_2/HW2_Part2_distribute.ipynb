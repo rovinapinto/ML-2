{
 "cells": [
  {
   "cell_type": "markdown",
   "metadata": {
    "id": "EaA1H2AHyVWQ"
   },
   "source": [
    "# ML-2: Trees, Model Interrogation and Bayesian Workflow\n",
    "# Homework 2: Rossman Kaggle: Forecasting Sales\n",
    "# Part 2 : Modelling without embeddings!\n",
    "**ML-2 Cohort 1** <br>\n",
    "**Instructor: Dr. Rahul Dave**<br>\n",
    "**Max Score: 100** <br>"
   ]
  },
  {
   "cell_type": "raw",
   "metadata": {
    "colab": {
     "base_uri": "https://localhost:8080/"
    },
    "executionInfo": {
     "elapsed": 28995,
     "status": "ok",
     "timestamp": 1617634901077,
     "user": {
      "displayName": "Wang Sherpa",
      "photoUrl": "",
      "userId": "08161901940468848487"
     },
     "user_tz": -330
    },
    "id": "4UYEUWiIjULr",
    "outputId": "808fa73a-a4b2-4eff-cf0f-00ddf340e340"
   },
   "source": [
    "from google.colab import drive\n",
    "drive.mount('/content/drive')"
   ]
  },
  {
   "cell_type": "code",
   "execution_count": 1,
   "metadata": {
    "executionInfo": {
     "elapsed": 3575,
     "status": "ok",
     "timestamp": 1617636661443,
     "user": {
      "displayName": "Wang Sherpa",
      "photoUrl": "",
      "userId": "08161901940468848487"
     },
     "user_tz": -330
    },
    "id": "6jBFtovs3nh1"
   },
   "outputs": [],
   "source": [
    "#importing libraries\n",
    "import numpy as np\n",
    "import scipy.stats\n",
    "import scipy.special\n",
    "import matplotlib\n",
    "import matplotlib.pyplot as plt\n",
    "import matplotlib.mlab as mlab\n",
    "from matplotlib import cm\n",
    "import pandas as pd\n",
    "from sklearn.pipeline import make_pipeline, make_union, Pipeline\n",
    "from sklearn.preprocessing import StandardScaler, OrdinalEncoder\n",
    "from sklearn.metrics import mean_squared_error\n",
    "from sklearn.ensemble import GradientBoostingRegressor\n",
    "from sklearn.model_selection import ParameterGrid\n",
    "from keras.models import Sequential\n",
    "from keras.models import Model as KerasModel\n",
    "from keras.layers import Input, Dense, Activation, Reshape\n",
    "from keras.layers import Concatenate\n",
    "from keras.layers.embeddings import Embedding\n",
    "from sklearn.ensemble import RandomForestRegressor\n",
    "from sklearn import linear_model\n",
    "import pickle\n",
    "import csv\n",
    "from datetime import datetime\n",
    "from sklearn import preprocessing\n",
    "from keras.callbacks import ModelCheckpoint\n",
    "import xgboost as xgb\n",
    "from sklearn.preprocessing import OneHotEncoder\n",
    "%matplotlib inline"
   ]
  },
  {
   "cell_type": "markdown",
   "metadata": {
    "id": "N2sEs45v7Rr2"
   },
   "source": [
    "## Part 2: Modelling without Entity Embeddings"
   ]
  },
  {
   "cell_type": "markdown",
   "metadata": {
    "id": "Uk7vU2zkGSXG"
   },
   "source": [
    "Remember the parameters we need to use\n",
    "\n",
    "![Parameters.jpeg](https://drive.google.com/uc?export=view&id=1ROfqM3F5hWwJyrvQr_J1ATovNIW5niOs)"
   ]
  },
  {
   "cell_type": "markdown",
   "metadata": {
    "id": "h5Hi8ehR7WFX"
   },
   "source": [
    "Lets import the feature_train_data.pickle file and set X,y values from the pickle file"
   ]
  },
  {
   "cell_type": "code",
   "execution_count": 2,
   "metadata": {
    "executionInfo": {
     "elapsed": 2953,
     "status": "ok",
     "timestamp": 1617636669388,
     "user": {
      "displayName": "Wang Sherpa",
      "photoUrl": "",
      "userId": "08161901940468848487"
     },
     "user_tz": -330
    },
    "id": "arl_aj6X7VQk"
   },
   "outputs": [],
   "source": [
    "base = \"\"\n",
    "f = open(base+'feature_train_data.pickle', 'rb')\n",
    "(X, y) = pickle.load(f)"
   ]
  },
  {
   "cell_type": "code",
   "execution_count": 3,
   "metadata": {
    "executionInfo": {
     "elapsed": 1229,
     "status": "ok",
     "timestamp": 1617636672507,
     "user": {
      "displayName": "Wang Sherpa",
      "photoUrl": "",
      "userId": "08161901940468848487"
     },
     "user_tz": -330
    },
    "id": "cwMxtFTUDRFN"
   },
   "outputs": [],
   "source": [
    "# we will split the train_ratio and 90% and 10% and set the train_size\n",
    "train_ratio = 0.9\n",
    "num_records = len(X)\n",
    "train_size = int(train_ratio * num_records)"
   ]
  },
  {
   "cell_type": "code",
   "execution_count": 4,
   "metadata": {
    "colab": {
     "base_uri": "https://localhost:8080/"
    },
    "executionInfo": {
     "elapsed": 904,
     "status": "ok",
     "timestamp": 1617636675261,
     "user": {
      "displayName": "Wang Sherpa",
      "photoUrl": "",
      "userId": "08161901940468848487"
     },
     "user_tz": -330
    },
    "id": "XpP1Emg2Dni0",
    "outputId": "d8c53829-2435-406b-b60d-12abbd669a11"
   },
   "outputs": [
    {
     "data": {
      "text/plain": [
       "(array([   0, 1058,    1,    0,    0,    0,    0,    1]), 4491)"
      ]
     },
     "execution_count": 4,
     "metadata": {},
     "output_type": "execute_result"
    }
   ],
   "source": [
    "#lets look at our data\n",
    "X[1], y[1]"
   ]
  },
  {
   "cell_type": "markdown",
   "metadata": {
    "id": "X2fhYw49Dz3w"
   },
   "source": [
    "The next set of inputs is following:\n",
    "\n",
    "1. Do you want to one hot encode the data?\n",
    "2. Do you want to provide embeddings as input - this will be set to True for models with entity embeddings\n",
    "3. Do you want to save the emmbeddings? - again set to true if you want to entity embeddings\n",
    "4. if 3 is set to true, we want to save them to a embeddings.pickle\n"
   ]
  },
  {
   "cell_type": "code",
   "execution_count": 5,
   "metadata": {
    "executionInfo": {
     "elapsed": 1504,
     "status": "ok",
     "timestamp": 1617636679634,
     "user": {
      "displayName": "Wang Sherpa",
      "photoUrl": "",
      "userId": "08161901940468848487"
     },
     "user_tz": -330
    },
    "id": "Tqtv6VWWDuZu"
   },
   "outputs": [],
   "source": [
    "one_hot_as_input = True #one_hot is set to True\n",
    "embeddings_as_input = False #embeddings later on needs to set to true for Part 3\n",
    "save_embeddings = False\n",
    "saved_embeddings_fname = \"embeddings.pickle\"  # set save_embeddings to True to create this file"
   ]
  },
  {
   "cell_type": "markdown",
   "metadata": {
    "id": "BPSoah0_F9Ed"
   },
   "source": [
    "Define a function to one hot encode the training set and after split transform your training set using the function"
   ]
  },
  {
   "cell_type": "code",
   "execution_count": 6,
   "metadata": {
    "executionInfo": {
     "elapsed": 965,
     "status": "ok",
     "timestamp": 1617636681951,
     "user": {
      "displayName": "Wang Sherpa",
      "photoUrl": "",
      "userId": "08161901940468848487"
     },
     "user_tz": -330
    },
    "id": "KS03CrxWjcNN"
   },
   "outputs": [],
   "source": [
    "def OHEncode(X):\n",
    "    ohe = OneHotEncoder()\n",
    "    X_enc = ohe.fit_transform(X)\n",
    "    \n",
    "    return X_enc.toarray()"
   ]
  },
  {
   "cell_type": "markdown",
   "metadata": {
    "id": "PCk7tyVQEdy6"
   },
   "source": [
    "Split the data into X_train, X_val, y_train, y_val based on the train_size"
   ]
  },
  {
   "cell_type": "code",
   "execution_count": 7,
   "metadata": {
    "colab": {
     "base_uri": "https://localhost:8080/"
    },
    "executionInfo": {
     "elapsed": 6083,
     "status": "ok",
     "timestamp": 1617636687733,
     "user": {
      "displayName": "Wang Sherpa",
      "photoUrl": "",
      "userId": "08161901940468848487"
     },
     "user_tz": -330
    },
    "id": "hLTrTSGPEaGw",
    "outputId": "c7b77e1b-6b3e-4470-dcb4-236e43993d6d"
   },
   "outputs": [
    {
     "name": "stdout",
     "output_type": "stream",
     "text": [
      "(759904, 1183) (759904,) (84434, 1183) (84434,)\n"
     ]
    }
   ],
   "source": [
    "X_enc = OHEncode(X)\n",
    "\n",
    "X_train, X_val, y_train, y_val = X_enc[:train_size], X_enc[train_size:], y[:train_size], y[train_size:]\n",
    "\n",
    "print(X_train.shape, y_train.shape, X_val.shape, y_val.shape)"
   ]
  },
  {
   "cell_type": "markdown",
   "metadata": {
    "id": "m1-ykazxEhLC"
   },
   "source": [
    "Lets also sample the data\n",
    "\n",
    "**Why do we do this??**\n",
    "\n",
    "Using large datasets can be resource intensive. Sampling data can be an efficient method to train data quickly using just a sample subset. Properly sampled data not only is representative of the population as a whole but also gives the advantage of using lesser number of data points to train the model quicker than a larger one. "
   ]
  },
  {
   "cell_type": "code",
   "execution_count": 8,
   "metadata": {
    "executionInfo": {
     "elapsed": 5046,
     "status": "ok",
     "timestamp": 1617636687736,
     "user": {
      "displayName": "Wang Sherpa",
      "photoUrl": "",
      "userId": "08161901940468848487"
     },
     "user_tz": -330
    },
    "id": "StnmulRkEnRt"
   },
   "outputs": [],
   "source": [
    "def sample(X, y, n):\n",
    "    '''random samples'''\n",
    "    num_row = X.shape[0]\n",
    "    indices = np.random.randint(num_row, size=n)\n",
    "    return X[indices, :], y[indices]"
   ]
  },
  {
   "cell_type": "code",
   "execution_count": 9,
   "metadata": {
    "colab": {
     "base_uri": "https://localhost:8080/"
    },
    "executionInfo": {
     "elapsed": 5440,
     "status": "ok",
     "timestamp": 1617636688453,
     "user": {
      "displayName": "Wang Sherpa",
      "photoUrl": "",
      "userId": "08161901940468848487"
     },
     "user_tz": -330
    },
    "id": "ednNv14aEpjS",
    "outputId": "c370d9b0-a2b0-4f48-85e3-c4241f64e9c1"
   },
   "outputs": [
    {
     "name": "stdout",
     "output_type": "stream",
     "text": [
      "Number of samples used for training: 200000\n"
     ]
    }
   ],
   "source": [
    "X_train, y_train = sample(X_train, y_train, 200000)  # Simulate data sparsity\n",
    "print(\"Number of samples used for training: \" + str(y_train.shape[0]))"
   ]
  },
  {
   "cell_type": "markdown",
   "metadata": {
    "id": "4ayLSo_1E0yF"
   },
   "source": [
    "## Now lets work with Models without embedding!!"
   ]
  },
  {
   "cell_type": "markdown",
   "metadata": {
    "id": "KT5efxrLE7Cd"
   },
   "source": [
    "**Lets define MAPE first**"
   ]
  },
  {
   "cell_type": "code",
   "execution_count": 10,
   "metadata": {
    "executionInfo": {
     "elapsed": 3993,
     "status": "ok",
     "timestamp": 1617636688454,
     "user": {
      "displayName": "Wang Sherpa",
      "photoUrl": "",
      "userId": "08161901940468848487"
     },
     "user_tz": -330
    },
    "id": "ZRpKGtOLE6TV"
   },
   "outputs": [],
   "source": [
    "#defining mape\n",
    "def MAPE(Y_actual,Y_Predicted):\n",
    "    y_true, y_pred = np.array(Y_actual), np.array(Y_Predicted)\n",
    "    mape = (1/len(y_true)) * np.sum(np.absolute((y_true - y_pred) / y_true))\n",
    "    return mape "
   ]
  },
  {
   "cell_type": "markdown",
   "metadata": {
    "id": "P1c33g9Kjlcr"
   },
   "source": [
    "**We will be log-transforming the dependent variable(y) because it is long-tailed** - keep this in mind for each model or do the conversion after you split the data itself"
   ]
  },
  {
   "cell_type": "markdown",
   "metadata": {
    "id": "3VxpJyr-Gct-"
   },
   "source": [
    "### 2.1: Random Forests\n",
    "\n",
    "1. Define a RandomForestRegressor model - with n_esitmators = 200, max_depth = 35, min_samples_split = 2, min_samples_leaf = 1\n",
    "2. Fit on the training data\n",
    "3. Predict on the validation and training data\n",
    "4. evaluate the model - calculate the MAPE for validation and training data\n",
    "\n",
    "**These parameters are from the paper** "
   ]
  },
  {
   "cell_type": "code",
   "execution_count": 11,
   "metadata": {
    "colab": {
     "base_uri": "https://localhost:8080/",
     "height": 374
    },
    "executionInfo": {
     "elapsed": 1250591,
     "status": "error",
     "timestamp": 1617637937944,
     "user": {
      "displayName": "Wang Sherpa",
      "photoUrl": "",
      "userId": "08161901940468848487"
     },
     "user_tz": -330
    },
    "id": "kGX-_sRYkxPv",
    "outputId": "6ddf612c-c073-4cdb-ac95-9cc4361927b3"
   },
   "outputs": [
    {
     "data": {
      "text/plain": [
       "RandomForestRegressor(max_depth=35, n_estimators=200, n_jobs=-1)"
      ]
     },
     "execution_count": 11,
     "metadata": {},
     "output_type": "execute_result"
    }
   ],
   "source": [
    "rf = RandomForestRegressor(n_estimators = 200, max_depth = 35, min_samples_split = 2, min_samples_leaf = 1, n_jobs=-1)\n",
    "\n",
    "# rf.fit(X_train, np.log(y_train))"
   ]
  },
  {
   "cell_type": "code",
   "execution_count": 12,
   "metadata": {},
   "outputs": [],
   "source": [
    "# save the model\n",
    "pickle.dump(rf, open('models/rf_weights.sav', 'wb'))"
   ]
  },
  {
   "cell_type": "code",
   "execution_count": 18,
   "metadata": {},
   "outputs": [],
   "source": [
    "import joblib\n",
    "\n",
    "# load the trained model\n",
    "rf = joblib.load('models/rf_weights.sav')"
   ]
  },
  {
   "cell_type": "code",
   "execution_count": 13,
   "metadata": {},
   "outputs": [
    {
     "name": "stdout",
     "output_type": "stream",
     "text": [
      "Training MAPE: 0.02527467825803028\n",
      "Validation MAPE: 0.026256596670729656\n"
     ]
    }
   ],
   "source": [
    "# make predictions on training and validation sets\n",
    "y_pred_train = rf.predict(X_train)\n",
    "y_pred_val = rf.predict(X_val) \n",
    "\n",
    "# calculate MAPEs\n",
    "rf_train_mape = MAPE(np.log(y_train), y_pred_train)\n",
    "rf_val_mape = MAPE(np.log(y_val), y_pred_val)\n",
    "\n",
    "print(\"Training MAPE: {:.4f}\\nValidation MAPE: {:.4f}\".format(rf_train_mape, rf_val_mape))"
   ]
  },
  {
   "cell_type": "markdown",
   "metadata": {
    "id": "wcSEUp3GHC_Q"
   },
   "source": [
    "### 2.2 Boosted Trees"
   ]
  },
  {
   "cell_type": "markdown",
   "metadata": {
    "id": "0Cq3sVKaHRAL"
   },
   "source": [
    "For boosting, we will use XGBoost for regression\n",
    "1. We will create a DMatrix from XGB for this - because we want to define a param_grid here. \n",
    "  * Again look at the parameters from the paper\n",
    "2. The DMatrix should be provided with X_train and label as y_train\n",
    "3. Parameters will be as follows:\n",
    "  * 'nthread': -1,\n",
    "  * 'max_depth': 7,\n",
    "  * 'eta': 0.02,\n",
    "  * 'silent': 1,\n",
    "  * 'objective': 'reg:linear',\n",
    "  * 'colsample_bytree': 0.7,\n",
    "  * 'subsample': 0.7\n",
    "  * num_round = 3000\n",
    "\n",
    "4. Train the model\n",
    "\n",
    "5. Note xgb.DMatrix needs features from Xtrain and Xval while predicting. Hence define:\n",
    "```\n",
    "feature_Xtr = xgb.DMatrix(X_train)\n",
    "feature_Xval = xgb.DMatrix(X_val)\n",
    "```\n",
    "5. Predict on feature_Xtr and feature_Xval \n",
    "6. Calculate MAPE for both\n",
    "\n",
    "\n",
    "\n",
    "Look at XGBoost [documentation](https://xgboost.readthedocs.io/en/latest/python/python_intro.html) for each parameter information"
   ]
  },
  {
   "cell_type": "code",
   "execution_count": 14,
   "metadata": {
    "id": "m1--s_4pGOuB"
   },
   "outputs": [],
   "source": [
    "# define parameters for xgboost\n",
    "params = {'nthread': -1, 'max_depth': 7,\n",
    "          'eta': 0.02,'silent': 1,\n",
    "          'objective': 'reg:linear',\n",
    "          'colsample_bytree': 0.7,\n",
    "          'subsample': 0.7}\n",
    "\n",
    "# create a dmatrix from training data\n",
    "dmatrix = xgb.DMatrix(data=X_train, label=np.log(y_train))\n",
    "\n",
    "# create feature matrix for both train and validation without using response feature\n",
    "feature_Xtr = xgb.DMatrix(X_train)\n",
    "feature_Xval = xgb.DMatrix(X_val)\n",
    "\n",
    "# train xgboost regressor\n",
    "# xgb_reg = xgb.train(dtrain=dmatrix, params=params, num_boost_round=3000)"
   ]
  },
  {
   "cell_type": "code",
   "execution_count": 15,
   "metadata": {},
   "outputs": [],
   "source": [
    "# save the trained model\n",
    "pickle.dump(xgb_reg, open('xgb_weights.sav', 'wb'))"
   ]
  },
  {
   "cell_type": "code",
   "execution_count": 16,
   "metadata": {},
   "outputs": [],
   "source": [
    "# load the saved model\n",
    "xgb_reg = joblib.load('models/xgb_weights.sav')"
   ]
  },
  {
   "cell_type": "code",
   "execution_count": 17,
   "metadata": {},
   "outputs": [
    {
     "name": "stdout",
     "output_type": "stream",
     "text": [
      "Training MAPE: 0.04355905381680429\n",
      "Validation MAPE: 0.042468360493900695\n"
     ]
    }
   ],
   "source": [
    "# make predictions on training and validation sets\n",
    "y_train_pred = xgb_reg.predict(feature_Xtr)\n",
    "y_val_pred = xgb_reg.predict(feature_Xval)\n",
    "\n",
    "# Calculate MAPEs\n",
    "xgb_train_mape = MAPE(np.log(y_train), y_train_pred) \n",
    "xgb_val_mape = MAPE(np.log(y_val), y_val_pred)\n",
    "\n",
    "print(\"Training MAPE: {:.4f}\\nValidation MAPE: {:.4f}\".format(xgb_train_mape, xgb_val_mape))"
   ]
  },
  {
   "cell_type": "markdown",
   "metadata": {
    "id": "1LIINAciJtWi"
   },
   "source": [
    "### 2.3 Multi Layer Perceptron"
   ]
  },
  {
   "cell_type": "markdown",
   "metadata": {
    "id": "6wdjE8AgN-Ma"
   },
   "source": [
    "Define a Sequential model with the following:\n",
    "(Read the Part VI Part A Neural Networks)\n",
    "\n",
    "1. Dense Layer - 1000 neurons, keep the kernel_initializer as uniform, with activaation as relu\n",
    "2. Dense Layer - 500 neurons, keep the kernel_initializer as uniform, with activaation as relu\n",
    "3. Final dense layer with 1 neuron, and activation as sigmoid\n",
    "4. Compile the model on mean absolute error and optimizer as adam\n",
    "5. Fit the model on 10 epochs and batch size as 128, find the MAPE "
   ]
  },
  {
   "cell_type": "code",
   "execution_count": 19,
   "metadata": {
    "id": "G_wvmj1lNmhR"
   },
   "outputs": [],
   "source": [
    "#Build the model\n",
    "model = Sequential()\n",
    "model.add(Dense(1000,kernel_initializer = 'uniform', activation='relu', input_dim=1183))\n",
    "model.add(Dense(500,kernel_initializer = 'uniform', activation='relu'))\n",
    "model.add(Dense(1, activation='sigmoid'))"
   ]
  },
  {
   "cell_type": "code",
   "execution_count": 20,
   "metadata": {
    "id": "O-qcYmI5la84"
   },
   "outputs": [],
   "source": [
    "#we will rescale our y_train for the model\n",
    "#the reason for this is mentioned in the paper in the same section\n",
    "# to see this change you can plot the log(Sale) vs log(Sale_max) and see how it varies\n",
    "\n",
    "max_log_y = max(np.max(np.log(y_train)), np.max(np.log(y_val)))\n",
    "fitting_y = np.log(y_train) / max_log_y"
   ]
  },
  {
   "cell_type": "code",
   "execution_count": 21,
   "metadata": {},
   "outputs": [
    {
     "data": {
      "text/plain": [
       "Text(0, 0.5, 'log(Sale_max)')"
      ]
     },
     "execution_count": 21,
     "metadata": {},
     "output_type": "execute_result"
    },
    {
     "data": {
      "image/png": "[encoded data removed]",
      "text/plain": [
       "<Figure size 1080x432 with 1 Axes>"
      ]
     },
     "metadata": {
      "needs_background": "light"
     },
     "output_type": "display_data"
    }
   ],
   "source": [
    "#plot the log(Sale) vs log(Sale_max) and see how it varies\n",
    "\n",
    "plt.figure(figsize=(15, 6))\n",
    "plt.scatter(np.log(y_train), fitting_y)\n",
    "plt.title(\"log(Sale) vs log(Sale_max)\", fontsize=20)\n",
    "plt.xlabel(\"log(Sale)\", fontsize=15)\n",
    "plt.ylabel(\"log(Sale_max)\", fontsize=15)"
   ]
  },
  {
   "cell_type": "code",
   "execution_count": 22,
   "metadata": {
    "id": "hD14nr4ik0re"
   },
   "outputs": [
    {
     "name": "stdout",
     "output_type": "stream",
     "text": [
      "Epoch 1/10\n",
      "1563/1563 [==============================] - 19s 11ms/step - loss: 0.0190\n",
      "\n",
      "Epoch 00001: saving model to models/nn_weights1.hdf5\n",
      "Epoch 2/10\n",
      "1563/1563 [==============================] - 23s 15ms/step - loss: 0.0083\n",
      "\n",
      "Epoch 00002: saving model to models/nn_weights1.hdf5\n",
      "Epoch 3/10\n",
      "1563/1563 [==============================] - 22s 14ms/step - loss: 0.0071\n",
      "\n",
      "Epoch 00003: saving model to models/nn_weights1.hdf5\n",
      "Epoch 4/10\n",
      "1563/1563 [==============================] - 24s 15ms/step - loss: 0.0065\n",
      "\n",
      "Epoch 00004: saving model to models/nn_weights1.hdf5\n",
      "Epoch 5/10\n",
      "1563/1563 [==============================] - 23s 14ms/step - loss: 0.0059\n",
      "\n",
      "Epoch 00005: saving model to models/nn_weights1.hdf5\n",
      "Epoch 6/10\n",
      "1563/1563 [==============================] - 22s 14ms/step - loss: 0.0055\n",
      "\n",
      "Epoch 00006: saving model to models/nn_weights1.hdf5\n",
      "Epoch 7/10\n",
      "1563/1563 [==============================] - 22s 14ms/step - loss: 0.0051\n",
      "\n",
      "Epoch 00007: saving model to models/nn_weights1.hdf5\n",
      "Epoch 8/10\n",
      "1563/1563 [==============================] - 22s 14ms/step - loss: 0.0047\n",
      "\n",
      "Epoch 00008: saving model to models/nn_weights1.hdf5\n",
      "Epoch 9/10\n",
      "1563/1563 [==============================] - 22s 14ms/step - loss: 0.0044\n",
      "\n",
      "Epoch 00009: saving model to models/nn_weights1.hdf5\n",
      "Epoch 10/10\n",
      "1563/1563 [==============================] - 22s 14ms/step - loss: 0.0042\n",
      "\n",
      "Epoch 00010: saving model to models/nn_weights1.hdf5\n"
     ]
    },
    {
     "data": {
      "text/plain": [
       "<tensorflow.python.keras.callbacks.History at 0x7f165040f3a0>"
      ]
     },
     "execution_count": 22,
     "metadata": {},
     "output_type": "execute_result"
    }
   ],
   "source": [
    "# create a checkpoint for saving model weights\n",
    "model_checkpointer = ModelCheckpoint(filepath=\"models/nn_weights1.hdf5\", verbose=1)\n",
    "# compile the model\n",
    "model.compile(loss='mean_absolute_error', optimizer='adam')\n",
    "# fit the model on a training set\n",
    "model.fit(X_train, fitting_y, epochs=10, batch_size=128, callbacks=[model_checkpointer])"
   ]
  },
  {
   "cell_type": "code",
   "execution_count": 21,
   "metadata": {},
   "outputs": [],
   "source": [
    "# load the saved weights\n",
    "model.load_weights(\"nn_weights1.hdf5\")"
   ]
  },
  {
   "cell_type": "code",
   "execution_count": 23,
   "metadata": {
    "id": "aN0zoTVdG2MI"
   },
   "outputs": [
    {
     "name": "stdout",
     "output_type": "stream",
     "text": [
      "Training MAPE: 0.004839119720150519\n",
      "Validation MAPE: 0.012262920754159952\n"
     ]
    }
   ],
   "source": [
    "# scale y_val same as y_train\n",
    "fitting_yval = np.log(y_val) / max_log_y\n",
    "\n",
    "# predict \n",
    "y_pred_train = model.predict(X_train).flatten()\n",
    "y_pred_val = model.predict(X_val).flatten()\n",
    "\n",
    "# calculate MAPEs\n",
    "mlp_train_mape = MAPE(fitting_y, y_pred_train)\n",
    "mlp_val_mape = MAPE(fitting_yval, y_pred_val)\n",
    "\n",
    "print(\"Training MAPE: {}\\nValidation MAPE: {}\".format(mlp_train_mape, mlp_val_mape))"
   ]
  },
  {
   "cell_type": "markdown",
   "metadata": {
    "id": "T-5celHwnaLO"
   },
   "source": [
    "# You are done with Part 2!!\n",
    "Print out the MAPE values for all models, you will need this in hand while working on Part 3 for comparing!"
   ]
  },
  {
   "cell_type": "code",
   "execution_count": 25,
   "metadata": {},
   "outputs": [
    {
     "data": {
      "text/html": [
       "<div>\n",
       "<style scoped>\n",
       "    .dataframe tbody tr th:only-of-type {\n",
       "        vertical-align: middle;\n",
       "    }\n",
       "\n",
       "    .dataframe tbody tr th {\n",
       "        vertical-align: top;\n",
       "    }\n",
       "\n",
       "    .dataframe thead th {\n",
       "        text-align: right;\n",
       "    }\n",
       "</style>\n",
       "<table border=\"1\" class=\"dataframe\">\n",
       "  <thead>\n",
       "    <tr style=\"text-align: right;\">\n",
       "      <th></th>\n",
       "      <th>method</th>\n",
       "      <th>MAPE</th>\n",
       "    </tr>\n",
       "  </thead>\n",
       "  <tbody>\n",
       "    <tr>\n",
       "      <th>0</th>\n",
       "      <td>Neural Network</td>\n",
       "      <td>0.012263</td>\n",
       "    </tr>\n",
       "    <tr>\n",
       "      <th>1</th>\n",
       "      <td>Random Forest</td>\n",
       "      <td>0.026257</td>\n",
       "    </tr>\n",
       "    <tr>\n",
       "      <th>2</th>\n",
       "      <td>XGBoost</td>\n",
       "      <td>0.042468</td>\n",
       "    </tr>\n",
       "  </tbody>\n",
       "</table>\n",
       "</div>"
      ],
      "text/plain": [
       "           method      MAPE\n",
       "0  Neural Network  0.012263\n",
       "1   Random Forest  0.026257\n",
       "2         XGBoost  0.042468"
      ]
     },
     "execution_count": 25,
     "metadata": {},
     "output_type": "execute_result"
    }
   ],
   "source": [
    "rf_mape = rf_val_mape\n",
    "xg_boost_mape = xgb_val_mape\n",
    "nn_mape = mlp_val_mape\n",
    "\n",
    "mapes = {'MAPE': {'Random Forest': rf_mape, 'XGBoost': xg_boost_mape, 'Neural Network': nn_mape}}\n",
    "table = pd.DataFrame(mapes)\n",
    "table.reset_index(inplace=True)\n",
    "table.rename(columns={'index': 'method'}, inplace=True)\n",
    "table"
   ]
  },
  {
   "cell_type": "code",
   "execution_count": null,
   "metadata": {},
   "outputs": [],
   "source": []
  }
 ],
 "metadata": {
  "accelerator": "GPU",
  "colab": {
   "collapsed_sections": [],
   "machine_shape": "hm",
   "name": "HW2_Part2_distribute.ipynb",
   "provenance": []
  },
  "kernelspec": {
   "display_name": "Python 3",
   "language": "python",
   "name": "python3"
  },
  "language_info": {
   "codemirror_mode": {
    "name": "ipython",
    "version": 3
   },
   "file_extension": ".py",
   "mimetype": "text/x-python",
   "name": "python",
   "nbconvert_exporter": "python",
   "pygments_lexer": "ipython3",
   "version": "3.8.5"
  }
 },
 "nbformat": 4,
 "nbformat_minor": 1
}
